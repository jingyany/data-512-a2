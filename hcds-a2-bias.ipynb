{
 "cells": [
  {
   "cell_type": "markdown",
   "metadata": {},
   "source": [
    "# Assignment 2: Bias in data"
   ]
  },
  {
   "cell_type": "markdown",
   "metadata": {},
   "source": [
    "## Getting article quality predictions"
   ]
  },
  {
   "cell_type": "code",
   "execution_count": 2,
   "metadata": {},
   "outputs": [],
   "source": [
    "import csv\n",
    "import requests\n",
    "import json\n",
    "import pandas as pd\n",
    "import numpy as np\n",
    "import matplotlib.pyplot as plt"
   ]
  },
  {
   "cell_type": "code",
   "execution_count": 3,
   "metadata": {},
   "outputs": [],
   "source": [
    "# getting the article data from the CSV files\n",
    "headers = {'User-Agent' : 'https://github.com/jingyany', 'From' : 'jingyany@uw.edu'}\n",
    "\n",
    "data = []\n",
    "with open('page_data.csv') as csvfile:\n",
    "    reader = csv.reader(csvfile)\n",
    "    for row in reader:\n",
    "        data.append([row[0],row[1],row[2]])\n",
    "del data[0]"
   ]
  },
  {
   "cell_type": "code",
   "execution_count": 4,
   "metadata": {},
   "outputs": [],
   "source": [
    "# Get the predicted quality scores for each article from ORES\n",
    "def get_data(revision_ids, headers):\n",
    "    endpoint = 'https://ores.wikimedia.org/v3/scores/{project}/?models={model}&revids={revids}'\n",
    "    params = {'project' : 'enwiki',\n",
    "              'model'   : 'wp10',\n",
    "              'revids'  : '|'.join(str(x) for x in revision_ids)\n",
    "              }\n",
    "    api_call = requests.get(endpoint.format(**params))\n",
    "    response = api_call.json()\n",
    "    return response"
   ]
  },
  {
   "cell_type": "code",
   "execution_count": 5,
   "metadata": {},
   "outputs": [],
   "source": [
    "# Get the article quality for each article from ORES\n",
    "def get_prediction(id_lst, headers):\n",
    "    res = []\n",
    "    start = 0\n",
    "    while start < len(id_lst):\n",
    "        end = min(start + 100, len(id_lst))\n",
    "        score = get_data(id_lst[start : end], headers)\n",
    "        for rev_id in score['enwiki']['scores']:\n",
    "            if 'score' in score['enwiki']['scores'][rev_id]['wp10']:\n",
    "                res.append(score['enwiki']['scores'][rev_id]['wp10']['score']['prediction'])\n",
    "            else:\n",
    "                res.append(None)\n",
    "        start = start + 100\n",
    "    return res"
   ]
  },
  {
   "cell_type": "code",
   "execution_count": 6,
   "metadata": {},
   "outputs": [
    {
     "data": {
      "text/plain": [
       "47197"
      ]
     },
     "execution_count": 6,
     "metadata": {},
     "output_type": "execute_result"
    }
   ],
   "source": [
    "id_lst = [item[2] for item in data]\n",
    "len(id_lst)"
   ]
  },
  {
   "cell_type": "code",
   "execution_count": 7,
   "metadata": {},
   "outputs": [],
   "source": [
    "prediction = get_prediction(id_lst, headers)"
   ]
  },
  {
   "cell_type": "code",
   "execution_count": 8,
   "metadata": {},
   "outputs": [
    {
     "data": {
      "text/plain": [
       "47197"
      ]
     },
     "execution_count": 8,
     "metadata": {},
     "output_type": "execute_result"
    }
   ],
   "source": [
    "len(prediction)"
   ]
  },
  {
   "cell_type": "markdown",
   "metadata": {},
   "source": [
    "## Combine the datasets"
   ]
  },
  {
   "cell_type": "code",
   "execution_count": 9,
   "metadata": {},
   "outputs": [
    {
     "data": {
      "text/html": [
       "<div>\n",
       "<table border=\"1\" class=\"dataframe\">\n",
       "  <thead>\n",
       "    <tr style=\"text-align: right;\">\n",
       "      <th></th>\n",
       "      <th>page</th>\n",
       "      <th>country</th>\n",
       "      <th>rev_id</th>\n",
       "    </tr>\n",
       "  </thead>\n",
       "  <tbody>\n",
       "    <tr>\n",
       "      <th>0</th>\n",
       "      <td>Template:ZambiaProvincialMinisters</td>\n",
       "      <td>Zambia</td>\n",
       "      <td>235107991</td>\n",
       "    </tr>\n",
       "    <tr>\n",
       "      <th>1</th>\n",
       "      <td>Bir I of Kanem</td>\n",
       "      <td>Chad</td>\n",
       "      <td>355319463</td>\n",
       "    </tr>\n",
       "    <tr>\n",
       "      <th>2</th>\n",
       "      <td>Template:Zimbabwe-politician-stub</td>\n",
       "      <td>Zimbabwe</td>\n",
       "      <td>391862046</td>\n",
       "    </tr>\n",
       "    <tr>\n",
       "      <th>3</th>\n",
       "      <td>Template:Uganda-politician-stub</td>\n",
       "      <td>Uganda</td>\n",
       "      <td>391862070</td>\n",
       "    </tr>\n",
       "    <tr>\n",
       "      <th>4</th>\n",
       "      <td>Template:Namibia-politician-stub</td>\n",
       "      <td>Namibia</td>\n",
       "      <td>391862409</td>\n",
       "    </tr>\n",
       "  </tbody>\n",
       "</table>\n",
       "</div>"
      ],
      "text/plain": [
       "                                 page   country     rev_id\n",
       "0  Template:ZambiaProvincialMinisters    Zambia  235107991\n",
       "1                      Bir I of Kanem      Chad  355319463\n",
       "2   Template:Zimbabwe-politician-stub  Zimbabwe  391862046\n",
       "3     Template:Uganda-politician-stub    Uganda  391862070\n",
       "4    Template:Namibia-politician-stub   Namibia  391862409"
      ]
     },
     "execution_count": 9,
     "metadata": {},
     "output_type": "execute_result"
    }
   ],
   "source": [
    "# Read article data to pandas from csv file\n",
    "df = pd.read_csv('page_data.csv')\n",
    "df.head()"
   ]
  },
  {
   "cell_type": "code",
   "execution_count": 10,
   "metadata": {},
   "outputs": [],
   "source": [
    "# Add article quality to the dataset\n",
    "pred = pd.Series(prediction)\n",
    "df['article_quality'] = pred.values"
   ]
  },
  {
   "cell_type": "code",
   "execution_count": 11,
   "metadata": {},
   "outputs": [
    {
     "data": {
      "text/html": [
       "<div>\n",
       "<table border=\"1\" class=\"dataframe\">\n",
       "  <thead>\n",
       "    <tr style=\"text-align: right;\">\n",
       "      <th></th>\n",
       "      <th>page</th>\n",
       "      <th>country</th>\n",
       "      <th>rev_id</th>\n",
       "      <th>article_quality</th>\n",
       "    </tr>\n",
       "  </thead>\n",
       "  <tbody>\n",
       "    <tr>\n",
       "      <th>0</th>\n",
       "      <td>Template:ZambiaProvincialMinisters</td>\n",
       "      <td>Zambia</td>\n",
       "      <td>235107991</td>\n",
       "      <td>Stub</td>\n",
       "    </tr>\n",
       "    <tr>\n",
       "      <th>1</th>\n",
       "      <td>Bir I of Kanem</td>\n",
       "      <td>Chad</td>\n",
       "      <td>355319463</td>\n",
       "      <td>Stub</td>\n",
       "    </tr>\n",
       "    <tr>\n",
       "      <th>2</th>\n",
       "      <td>Template:Zimbabwe-politician-stub</td>\n",
       "      <td>Zimbabwe</td>\n",
       "      <td>391862046</td>\n",
       "      <td>Stub</td>\n",
       "    </tr>\n",
       "    <tr>\n",
       "      <th>3</th>\n",
       "      <td>Template:Uganda-politician-stub</td>\n",
       "      <td>Uganda</td>\n",
       "      <td>391862070</td>\n",
       "      <td>Stub</td>\n",
       "    </tr>\n",
       "    <tr>\n",
       "      <th>4</th>\n",
       "      <td>Template:Namibia-politician-stub</td>\n",
       "      <td>Namibia</td>\n",
       "      <td>391862409</td>\n",
       "      <td>Stub</td>\n",
       "    </tr>\n",
       "  </tbody>\n",
       "</table>\n",
       "</div>"
      ],
      "text/plain": [
       "                                 page   country     rev_id article_quality\n",
       "0  Template:ZambiaProvincialMinisters    Zambia  235107991            Stub\n",
       "1                      Bir I of Kanem      Chad  355319463            Stub\n",
       "2   Template:Zimbabwe-politician-stub  Zimbabwe  391862046            Stub\n",
       "3     Template:Uganda-politician-stub    Uganda  391862070            Stub\n",
       "4    Template:Namibia-politician-stub   Namibia  391862409            Stub"
      ]
     },
     "execution_count": 11,
     "metadata": {},
     "output_type": "execute_result"
    }
   ],
   "source": [
    "df.head()"
   ]
  },
  {
   "cell_type": "code",
   "execution_count": 12,
   "metadata": {},
   "outputs": [
    {
     "data": {
      "text/html": [
       "<div>\n",
       "<table border=\"1\" class=\"dataframe\">\n",
       "  <thead>\n",
       "    <tr style=\"text-align: right;\">\n",
       "      <th></th>\n",
       "      <th>country</th>\n",
       "      <th>Location Type</th>\n",
       "      <th>TimeFrame</th>\n",
       "      <th>Data Type</th>\n",
       "      <th>Data</th>\n",
       "    </tr>\n",
       "  </thead>\n",
       "  <tbody>\n",
       "    <tr>\n",
       "      <th>0</th>\n",
       "      <td>Afghanistan</td>\n",
       "      <td>Country</td>\n",
       "      <td>Mid-2015</td>\n",
       "      <td>Number</td>\n",
       "      <td>32,247,000</td>\n",
       "    </tr>\n",
       "    <tr>\n",
       "      <th>1</th>\n",
       "      <td>Albania</td>\n",
       "      <td>Country</td>\n",
       "      <td>Mid-2015</td>\n",
       "      <td>Number</td>\n",
       "      <td>2,892,000</td>\n",
       "    </tr>\n",
       "    <tr>\n",
       "      <th>2</th>\n",
       "      <td>Algeria</td>\n",
       "      <td>Country</td>\n",
       "      <td>Mid-2015</td>\n",
       "      <td>Number</td>\n",
       "      <td>39,948,000</td>\n",
       "    </tr>\n",
       "    <tr>\n",
       "      <th>3</th>\n",
       "      <td>Andorra</td>\n",
       "      <td>Country</td>\n",
       "      <td>Mid-2015</td>\n",
       "      <td>Number</td>\n",
       "      <td>78,000</td>\n",
       "    </tr>\n",
       "    <tr>\n",
       "      <th>4</th>\n",
       "      <td>Angola</td>\n",
       "      <td>Country</td>\n",
       "      <td>Mid-2015</td>\n",
       "      <td>Number</td>\n",
       "      <td>25,000,000</td>\n",
       "    </tr>\n",
       "  </tbody>\n",
       "</table>\n",
       "</div>"
      ],
      "text/plain": [
       "       country Location Type TimeFrame Data Type        Data\n",
       "0  Afghanistan       Country  Mid-2015    Number  32,247,000\n",
       "1      Albania       Country  Mid-2015    Number   2,892,000\n",
       "2      Algeria       Country  Mid-2015    Number  39,948,000\n",
       "3      Andorra       Country  Mid-2015    Number      78,000\n",
       "4       Angola       Country  Mid-2015    Number  25,000,000"
      ]
     },
     "execution_count": 12,
     "metadata": {},
     "output_type": "execute_result"
    }
   ],
   "source": [
    "# Read population data to pandas from csv file\n",
    "df2 = pd.read_csv('Population Mid-2015.csv')\n",
    "df2.head()"
   ]
  },
  {
   "cell_type": "code",
   "execution_count": 13,
   "metadata": {},
   "outputs": [
    {
     "data": {
      "text/html": [
       "<div>\n",
       "<table border=\"1\" class=\"dataframe\">\n",
       "  <thead>\n",
       "    <tr style=\"text-align: right;\">\n",
       "      <th></th>\n",
       "      <th>page</th>\n",
       "      <th>country</th>\n",
       "      <th>rev_id</th>\n",
       "      <th>article_quality</th>\n",
       "      <th>Location Type</th>\n",
       "      <th>TimeFrame</th>\n",
       "      <th>Data Type</th>\n",
       "      <th>Data</th>\n",
       "    </tr>\n",
       "  </thead>\n",
       "  <tbody>\n",
       "    <tr>\n",
       "      <th>0</th>\n",
       "      <td>Template:ZambiaProvincialMinisters</td>\n",
       "      <td>Zambia</td>\n",
       "      <td>235107991</td>\n",
       "      <td>Stub</td>\n",
       "      <td>Country</td>\n",
       "      <td>Mid-2015</td>\n",
       "      <td>Number</td>\n",
       "      <td>15,473,900</td>\n",
       "    </tr>\n",
       "    <tr>\n",
       "      <th>1</th>\n",
       "      <td>Gladys Lundwe</td>\n",
       "      <td>Zambia</td>\n",
       "      <td>757566606</td>\n",
       "      <td>Stub</td>\n",
       "      <td>Country</td>\n",
       "      <td>Mid-2015</td>\n",
       "      <td>Number</td>\n",
       "      <td>15,473,900</td>\n",
       "    </tr>\n",
       "    <tr>\n",
       "      <th>2</th>\n",
       "      <td>Mwamba Luchembe</td>\n",
       "      <td>Zambia</td>\n",
       "      <td>764848643</td>\n",
       "      <td>Stub</td>\n",
       "      <td>Country</td>\n",
       "      <td>Mid-2015</td>\n",
       "      <td>Number</td>\n",
       "      <td>15,473,900</td>\n",
       "    </tr>\n",
       "    <tr>\n",
       "      <th>3</th>\n",
       "      <td>Thandiwe Banda</td>\n",
       "      <td>Zambia</td>\n",
       "      <td>768166426</td>\n",
       "      <td>Start</td>\n",
       "      <td>Country</td>\n",
       "      <td>Mid-2015</td>\n",
       "      <td>Number</td>\n",
       "      <td>15,473,900</td>\n",
       "    </tr>\n",
       "    <tr>\n",
       "      <th>4</th>\n",
       "      <td>Sylvester Chisembele</td>\n",
       "      <td>Zambia</td>\n",
       "      <td>776082926</td>\n",
       "      <td>C</td>\n",
       "      <td>Country</td>\n",
       "      <td>Mid-2015</td>\n",
       "      <td>Number</td>\n",
       "      <td>15,473,900</td>\n",
       "    </tr>\n",
       "  </tbody>\n",
       "</table>\n",
       "</div>"
      ],
      "text/plain": [
       "                                 page country     rev_id article_quality  \\\n",
       "0  Template:ZambiaProvincialMinisters  Zambia  235107991            Stub   \n",
       "1                       Gladys Lundwe  Zambia  757566606            Stub   \n",
       "2                     Mwamba Luchembe  Zambia  764848643            Stub   \n",
       "3                      Thandiwe Banda  Zambia  768166426           Start   \n",
       "4                Sylvester Chisembele  Zambia  776082926               C   \n",
       "\n",
       "  Location Type TimeFrame Data Type        Data  \n",
       "0       Country  Mid-2015    Number  15,473,900  \n",
       "1       Country  Mid-2015    Number  15,473,900  \n",
       "2       Country  Mid-2015    Number  15,473,900  \n",
       "3       Country  Mid-2015    Number  15,473,900  \n",
       "4       Country  Mid-2015    Number  15,473,900  "
      ]
     },
     "execution_count": 13,
     "metadata": {},
     "output_type": "execute_result"
    }
   ],
   "source": [
    "# Merge article data and population data based on country\n",
    "new_df = pd.merge(df, df2, on='country', how='inner')\n",
    "new_df.head()"
   ]
  },
  {
   "cell_type": "code",
   "execution_count": 14,
   "metadata": {},
   "outputs": [
    {
     "data": {
      "text/html": [
       "<div>\n",
       "<table border=\"1\" class=\"dataframe\">\n",
       "  <thead>\n",
       "    <tr style=\"text-align: right;\">\n",
       "      <th></th>\n",
       "      <th>article_name</th>\n",
       "      <th>article_quality</th>\n",
       "      <th>country</th>\n",
       "      <th>population</th>\n",
       "      <th>revision_id</th>\n",
       "    </tr>\n",
       "  </thead>\n",
       "  <tbody>\n",
       "    <tr>\n",
       "      <th>0</th>\n",
       "      <td>Template:ZambiaProvincialMinisters</td>\n",
       "      <td>Stub</td>\n",
       "      <td>Zambia</td>\n",
       "      <td>15,473,900</td>\n",
       "      <td>235107991</td>\n",
       "    </tr>\n",
       "    <tr>\n",
       "      <th>1</th>\n",
       "      <td>Gladys Lundwe</td>\n",
       "      <td>Stub</td>\n",
       "      <td>Zambia</td>\n",
       "      <td>15,473,900</td>\n",
       "      <td>757566606</td>\n",
       "    </tr>\n",
       "    <tr>\n",
       "      <th>2</th>\n",
       "      <td>Mwamba Luchembe</td>\n",
       "      <td>Stub</td>\n",
       "      <td>Zambia</td>\n",
       "      <td>15,473,900</td>\n",
       "      <td>764848643</td>\n",
       "    </tr>\n",
       "    <tr>\n",
       "      <th>3</th>\n",
       "      <td>Thandiwe Banda</td>\n",
       "      <td>Start</td>\n",
       "      <td>Zambia</td>\n",
       "      <td>15,473,900</td>\n",
       "      <td>768166426</td>\n",
       "    </tr>\n",
       "    <tr>\n",
       "      <th>4</th>\n",
       "      <td>Sylvester Chisembele</td>\n",
       "      <td>C</td>\n",
       "      <td>Zambia</td>\n",
       "      <td>15,473,900</td>\n",
       "      <td>776082926</td>\n",
       "    </tr>\n",
       "  </tbody>\n",
       "</table>\n",
       "</div>"
      ],
      "text/plain": [
       "                         article_name article_quality country  population  \\\n",
       "0  Template:ZambiaProvincialMinisters            Stub  Zambia  15,473,900   \n",
       "1                       Gladys Lundwe            Stub  Zambia  15,473,900   \n",
       "2                     Mwamba Luchembe            Stub  Zambia  15,473,900   \n",
       "3                      Thandiwe Banda           Start  Zambia  15,473,900   \n",
       "4                Sylvester Chisembele               C  Zambia  15,473,900   \n",
       "\n",
       "   revision_id  \n",
       "0    235107991  \n",
       "1    757566606  \n",
       "2    764848643  \n",
       "3    768166426  \n",
       "4    776082926  "
      ]
     },
     "execution_count": 14,
     "metadata": {},
     "output_type": "execute_result"
    }
   ],
   "source": [
    "# Generate final dataset for the data analysis\n",
    "final = pd.DataFrame({'country' : new_df.country,\n",
    "                      'article_name' : new_df.page,\n",
    "                     'revision_id': new_df.rev_id,\n",
    "                     'article_quality': new_df.article_quality,\n",
    "                     'population': new_df.Data})\n",
    "final.head()"
   ]
  },
  {
   "cell_type": "code",
   "execution_count": 15,
   "metadata": {},
   "outputs": [],
   "source": [
    "# Save the final dataset to a csv file\n",
    "final.to_csv('final_data.csv')"
   ]
  },
  {
   "cell_type": "markdown",
   "metadata": {},
   "source": [
    "## Analysis"
   ]
  },
  {
   "cell_type": "markdown",
   "metadata": {},
   "source": [
    "### Calculate the propertion of articles per population"
   ]
  },
  {
   "cell_type": "code",
   "execution_count": 16,
   "metadata": {},
   "outputs": [
    {
     "data": {
      "text/html": [
       "<div>\n",
       "<table border=\"1\" class=\"dataframe\">\n",
       "  <thead>\n",
       "    <tr style=\"text-align: right;\">\n",
       "      <th></th>\n",
       "      <th>country</th>\n",
       "      <th>article_name</th>\n",
       "    </tr>\n",
       "  </thead>\n",
       "  <tbody>\n",
       "    <tr>\n",
       "      <th>0</th>\n",
       "      <td>Afghanistan</td>\n",
       "      <td>327</td>\n",
       "    </tr>\n",
       "    <tr>\n",
       "      <th>1</th>\n",
       "      <td>Albania</td>\n",
       "      <td>460</td>\n",
       "    </tr>\n",
       "    <tr>\n",
       "      <th>2</th>\n",
       "      <td>Algeria</td>\n",
       "      <td>119</td>\n",
       "    </tr>\n",
       "    <tr>\n",
       "      <th>3</th>\n",
       "      <td>Andorra</td>\n",
       "      <td>34</td>\n",
       "    </tr>\n",
       "    <tr>\n",
       "      <th>4</th>\n",
       "      <td>Angola</td>\n",
       "      <td>110</td>\n",
       "    </tr>\n",
       "  </tbody>\n",
       "</table>\n",
       "</div>"
      ],
      "text/plain": [
       "       country  article_name\n",
       "0  Afghanistan           327\n",
       "1      Albania           460\n",
       "2      Algeria           119\n",
       "3      Andorra            34\n",
       "4       Angola           110"
      ]
     },
     "execution_count": 16,
     "metadata": {},
     "output_type": "execute_result"
    }
   ],
   "source": [
    "# Calculate the total number of articles of each country\n",
    "article_per_country = final[['article_name','country']].groupby(['country']).agg(['count'])\n",
    "article_per_country = article_per_country.reset_index()\n",
    "article_per_country.columns = article_per_country.columns.get_level_values(0)\n",
    "article_per_country.head()"
   ]
  },
  {
   "cell_type": "code",
   "execution_count": 17,
   "metadata": {},
   "outputs": [
    {
     "data": {
      "text/html": [
       "<div>\n",
       "<table border=\"1\" class=\"dataframe\">\n",
       "  <thead>\n",
       "    <tr style=\"text-align: right;\">\n",
       "      <th></th>\n",
       "      <th>country</th>\n",
       "      <th>article_name</th>\n",
       "      <th>Location Type</th>\n",
       "      <th>TimeFrame</th>\n",
       "      <th>Data Type</th>\n",
       "      <th>Data</th>\n",
       "    </tr>\n",
       "  </thead>\n",
       "  <tbody>\n",
       "    <tr>\n",
       "      <th>0</th>\n",
       "      <td>Afghanistan</td>\n",
       "      <td>327</td>\n",
       "      <td>Country</td>\n",
       "      <td>Mid-2015</td>\n",
       "      <td>Number</td>\n",
       "      <td>32,247,000</td>\n",
       "    </tr>\n",
       "    <tr>\n",
       "      <th>1</th>\n",
       "      <td>Albania</td>\n",
       "      <td>460</td>\n",
       "      <td>Country</td>\n",
       "      <td>Mid-2015</td>\n",
       "      <td>Number</td>\n",
       "      <td>2,892,000</td>\n",
       "    </tr>\n",
       "    <tr>\n",
       "      <th>2</th>\n",
       "      <td>Algeria</td>\n",
       "      <td>119</td>\n",
       "      <td>Country</td>\n",
       "      <td>Mid-2015</td>\n",
       "      <td>Number</td>\n",
       "      <td>39,948,000</td>\n",
       "    </tr>\n",
       "    <tr>\n",
       "      <th>3</th>\n",
       "      <td>Andorra</td>\n",
       "      <td>34</td>\n",
       "      <td>Country</td>\n",
       "      <td>Mid-2015</td>\n",
       "      <td>Number</td>\n",
       "      <td>78,000</td>\n",
       "    </tr>\n",
       "    <tr>\n",
       "      <th>4</th>\n",
       "      <td>Angola</td>\n",
       "      <td>110</td>\n",
       "      <td>Country</td>\n",
       "      <td>Mid-2015</td>\n",
       "      <td>Number</td>\n",
       "      <td>25,000,000</td>\n",
       "    </tr>\n",
       "  </tbody>\n",
       "</table>\n",
       "</div>"
      ],
      "text/plain": [
       "       country  article_name Location Type TimeFrame Data Type        Data\n",
       "0  Afghanistan           327       Country  Mid-2015    Number  32,247,000\n",
       "1      Albania           460       Country  Mid-2015    Number   2,892,000\n",
       "2      Algeria           119       Country  Mid-2015    Number  39,948,000\n",
       "3      Andorra            34       Country  Mid-2015    Number      78,000\n",
       "4       Angola           110       Country  Mid-2015    Number  25,000,000"
      ]
     },
     "execution_count": 17,
     "metadata": {},
     "output_type": "execute_result"
    }
   ],
   "source": [
    "temp = pd.merge(article_per_country, df2, on='country', how='inner' )\n",
    "temp.head()"
   ]
  },
  {
   "cell_type": "code",
   "execution_count": 18,
   "metadata": {},
   "outputs": [
    {
     "data": {
      "text/plain": [
       "country          object\n",
       "article_name      int64\n",
       "Location Type    object\n",
       "TimeFrame        object\n",
       "Data Type        object\n",
       "Data              int64\n",
       "dtype: object"
      ]
     },
     "execution_count": 18,
     "metadata": {},
     "output_type": "execute_result"
    }
   ],
   "source": [
    "temp['Data'] = temp['Data'].str.replace(',', '')\n",
    "temp['Data'] = temp['Data'].astype(int)\n",
    "temp.dtypes"
   ]
  },
  {
   "cell_type": "code",
   "execution_count": 19,
   "metadata": {},
   "outputs": [
    {
     "data": {
      "text/html": [
       "<div>\n",
       "<table border=\"1\" class=\"dataframe\">\n",
       "  <thead>\n",
       "    <tr style=\"text-align: right;\">\n",
       "      <th></th>\n",
       "      <th>country</th>\n",
       "      <th>article_name</th>\n",
       "      <th>Location Type</th>\n",
       "      <th>TimeFrame</th>\n",
       "      <th>Data Type</th>\n",
       "      <th>Data</th>\n",
       "      <th>articles_per_popilation</th>\n",
       "    </tr>\n",
       "  </thead>\n",
       "  <tbody>\n",
       "    <tr>\n",
       "      <th>0</th>\n",
       "      <td>Afghanistan</td>\n",
       "      <td>327</td>\n",
       "      <td>Country</td>\n",
       "      <td>Mid-2015</td>\n",
       "      <td>Number</td>\n",
       "      <td>32247000</td>\n",
       "      <td>0.000010</td>\n",
       "    </tr>\n",
       "    <tr>\n",
       "      <th>1</th>\n",
       "      <td>Albania</td>\n",
       "      <td>460</td>\n",
       "      <td>Country</td>\n",
       "      <td>Mid-2015</td>\n",
       "      <td>Number</td>\n",
       "      <td>2892000</td>\n",
       "      <td>0.000159</td>\n",
       "    </tr>\n",
       "    <tr>\n",
       "      <th>2</th>\n",
       "      <td>Algeria</td>\n",
       "      <td>119</td>\n",
       "      <td>Country</td>\n",
       "      <td>Mid-2015</td>\n",
       "      <td>Number</td>\n",
       "      <td>39948000</td>\n",
       "      <td>0.000003</td>\n",
       "    </tr>\n",
       "    <tr>\n",
       "      <th>3</th>\n",
       "      <td>Andorra</td>\n",
       "      <td>34</td>\n",
       "      <td>Country</td>\n",
       "      <td>Mid-2015</td>\n",
       "      <td>Number</td>\n",
       "      <td>78000</td>\n",
       "      <td>0.000436</td>\n",
       "    </tr>\n",
       "    <tr>\n",
       "      <th>4</th>\n",
       "      <td>Angola</td>\n",
       "      <td>110</td>\n",
       "      <td>Country</td>\n",
       "      <td>Mid-2015</td>\n",
       "      <td>Number</td>\n",
       "      <td>25000000</td>\n",
       "      <td>0.000004</td>\n",
       "    </tr>\n",
       "  </tbody>\n",
       "</table>\n",
       "</div>"
      ],
      "text/plain": [
       "       country  article_name Location Type TimeFrame Data Type      Data  \\\n",
       "0  Afghanistan           327       Country  Mid-2015    Number  32247000   \n",
       "1      Albania           460       Country  Mid-2015    Number   2892000   \n",
       "2      Algeria           119       Country  Mid-2015    Number  39948000   \n",
       "3      Andorra            34       Country  Mid-2015    Number     78000   \n",
       "4       Angola           110       Country  Mid-2015    Number  25000000   \n",
       "\n",
       "   articles_per_popilation  \n",
       "0                 0.000010  \n",
       "1                 0.000159  \n",
       "2                 0.000003  \n",
       "3                 0.000436  \n",
       "4                 0.000004  "
      ]
     },
     "execution_count": 19,
     "metadata": {},
     "output_type": "execute_result"
    }
   ],
   "source": [
    "# Calculate articles per population\n",
    "temp['articles_per_popilation'] = temp.article_name/temp.Data\n",
    "temp.head()"
   ]
  },
  {
   "cell_type": "markdown",
   "metadata": {},
   "source": [
    "### Calculate the percentage of high-quality articles for each country"
   ]
  },
  {
   "cell_type": "code",
   "execution_count": 20,
   "metadata": {},
   "outputs": [
    {
     "data": {
      "text/html": [
       "<div>\n",
       "<table border=\"1\" class=\"dataframe\">\n",
       "  <thead>\n",
       "    <tr style=\"text-align: right;\">\n",
       "      <th></th>\n",
       "      <th>article_name</th>\n",
       "      <th>article_quality</th>\n",
       "      <th>country</th>\n",
       "      <th>population</th>\n",
       "      <th>revision_id</th>\n",
       "    </tr>\n",
       "  </thead>\n",
       "  <tbody>\n",
       "    <tr>\n",
       "      <th>89</th>\n",
       "      <td>Mahamat Nouri</td>\n",
       "      <td>FA</td>\n",
       "      <td>Chad</td>\n",
       "      <td>13,707,000</td>\n",
       "      <td>792954115</td>\n",
       "    </tr>\n",
       "    <tr>\n",
       "      <th>112</th>\n",
       "      <td>Hissène Habré</td>\n",
       "      <td>GA</td>\n",
       "      <td>Chad</td>\n",
       "      <td>13,707,000</td>\n",
       "      <td>803166806</td>\n",
       "    </tr>\n",
       "    <tr>\n",
       "      <th>288</th>\n",
       "      <td>Robert Mugabe</td>\n",
       "      <td>FA</td>\n",
       "      <td>Zimbabwe</td>\n",
       "      <td>17,354,000</td>\n",
       "      <td>806814411</td>\n",
       "    </tr>\n",
       "    <tr>\n",
       "      <th>291</th>\n",
       "      <td>Grace Mugabe</td>\n",
       "      <td>GA</td>\n",
       "      <td>Zimbabwe</td>\n",
       "      <td>17,354,000</td>\n",
       "      <td>807337237</td>\n",
       "    </tr>\n",
       "    <tr>\n",
       "      <th>451</th>\n",
       "      <td>Robert Kyagulanyi Ssentamu</td>\n",
       "      <td>GA</td>\n",
       "      <td>Uganda</td>\n",
       "      <td>40,141,000</td>\n",
       "      <td>802822017</td>\n",
       "    </tr>\n",
       "  </tbody>\n",
       "</table>\n",
       "</div>"
      ],
      "text/plain": [
       "                   article_name article_quality   country  population  \\\n",
       "89                Mahamat Nouri              FA      Chad  13,707,000   \n",
       "112               Hissène Habré              GA      Chad  13,707,000   \n",
       "288               Robert Mugabe              FA  Zimbabwe  17,354,000   \n",
       "291                Grace Mugabe              GA  Zimbabwe  17,354,000   \n",
       "451  Robert Kyagulanyi Ssentamu              GA    Uganda  40,141,000   \n",
       "\n",
       "     revision_id  \n",
       "89     792954115  \n",
       "112    803166806  \n",
       "288    806814411  \n",
       "291    807337237  \n",
       "451    802822017  "
      ]
     },
     "execution_count": 20,
     "metadata": {},
     "output_type": "execute_result"
    }
   ],
   "source": [
    "# Select articles with high quality\n",
    "temp2 = final[(final['article_quality'] == 'FA') | (final['article_quality'] == 'GA')]\n",
    "temp2.head()"
   ]
  },
  {
   "cell_type": "code",
   "execution_count": 21,
   "metadata": {},
   "outputs": [
    {
     "data": {
      "text/html": [
       "<div>\n",
       "<table border=\"1\" class=\"dataframe\">\n",
       "  <thead>\n",
       "    <tr style=\"text-align: right;\">\n",
       "      <th></th>\n",
       "      <th>country</th>\n",
       "      <th>article_name</th>\n",
       "    </tr>\n",
       "  </thead>\n",
       "  <tbody>\n",
       "    <tr>\n",
       "      <th>0</th>\n",
       "      <td>Afghanistan</td>\n",
       "      <td>19</td>\n",
       "    </tr>\n",
       "    <tr>\n",
       "      <th>1</th>\n",
       "      <td>Albania</td>\n",
       "      <td>5</td>\n",
       "    </tr>\n",
       "    <tr>\n",
       "      <th>2</th>\n",
       "      <td>Algeria</td>\n",
       "      <td>3</td>\n",
       "    </tr>\n",
       "    <tr>\n",
       "      <th>3</th>\n",
       "      <td>Angola</td>\n",
       "      <td>2</td>\n",
       "    </tr>\n",
       "    <tr>\n",
       "      <th>4</th>\n",
       "      <td>Argentina</td>\n",
       "      <td>16</td>\n",
       "    </tr>\n",
       "  </tbody>\n",
       "</table>\n",
       "</div>"
      ],
      "text/plain": [
       "       country  article_name\n",
       "0  Afghanistan            19\n",
       "1      Albania             5\n",
       "2      Algeria             3\n",
       "3       Angola             2\n",
       "4    Argentina            16"
      ]
     },
     "execution_count": 21,
     "metadata": {},
     "output_type": "execute_result"
    }
   ],
   "source": [
    "# Count number of high-quality articles per country\n",
    "highquality_per_country = temp2[['article_name','country']].groupby(['country']).agg(['count'])\n",
    "highquality_per_country = highquality_per_country.reset_index()\n",
    "highquality_per_country.columns = highquality_per_country.columns.get_level_values(0)\n",
    "highquality_per_country.head()"
   ]
  },
  {
   "cell_type": "code",
   "execution_count": 22,
   "metadata": {},
   "outputs": [
    {
     "data": {
      "text/html": [
       "<div>\n",
       "<table border=\"1\" class=\"dataframe\">\n",
       "  <thead>\n",
       "    <tr style=\"text-align: right;\">\n",
       "      <th></th>\n",
       "      <th>country</th>\n",
       "      <th>article_name_x</th>\n",
       "      <th>article_name_y</th>\n",
       "      <th>Location Type</th>\n",
       "      <th>TimeFrame</th>\n",
       "      <th>Data Type</th>\n",
       "      <th>Data</th>\n",
       "      <th>articles_per_popilation</th>\n",
       "    </tr>\n",
       "  </thead>\n",
       "  <tbody>\n",
       "    <tr>\n",
       "      <th>0</th>\n",
       "      <td>Afghanistan</td>\n",
       "      <td>19.0</td>\n",
       "      <td>327</td>\n",
       "      <td>Country</td>\n",
       "      <td>Mid-2015</td>\n",
       "      <td>Number</td>\n",
       "      <td>32247000</td>\n",
       "      <td>0.000010</td>\n",
       "    </tr>\n",
       "    <tr>\n",
       "      <th>1</th>\n",
       "      <td>Albania</td>\n",
       "      <td>5.0</td>\n",
       "      <td>460</td>\n",
       "      <td>Country</td>\n",
       "      <td>Mid-2015</td>\n",
       "      <td>Number</td>\n",
       "      <td>2892000</td>\n",
       "      <td>0.000159</td>\n",
       "    </tr>\n",
       "    <tr>\n",
       "      <th>2</th>\n",
       "      <td>Algeria</td>\n",
       "      <td>3.0</td>\n",
       "      <td>119</td>\n",
       "      <td>Country</td>\n",
       "      <td>Mid-2015</td>\n",
       "      <td>Number</td>\n",
       "      <td>39948000</td>\n",
       "      <td>0.000003</td>\n",
       "    </tr>\n",
       "    <tr>\n",
       "      <th>3</th>\n",
       "      <td>Angola</td>\n",
       "      <td>2.0</td>\n",
       "      <td>110</td>\n",
       "      <td>Country</td>\n",
       "      <td>Mid-2015</td>\n",
       "      <td>Number</td>\n",
       "      <td>25000000</td>\n",
       "      <td>0.000004</td>\n",
       "    </tr>\n",
       "    <tr>\n",
       "      <th>4</th>\n",
       "      <td>Argentina</td>\n",
       "      <td>16.0</td>\n",
       "      <td>496</td>\n",
       "      <td>Country</td>\n",
       "      <td>Mid-2015</td>\n",
       "      <td>Number</td>\n",
       "      <td>42426000</td>\n",
       "      <td>0.000012</td>\n",
       "    </tr>\n",
       "  </tbody>\n",
       "</table>\n",
       "</div>"
      ],
      "text/plain": [
       "       country  article_name_x  article_name_y Location Type TimeFrame  \\\n",
       "0  Afghanistan            19.0             327       Country  Mid-2015   \n",
       "1      Albania             5.0             460       Country  Mid-2015   \n",
       "2      Algeria             3.0             119       Country  Mid-2015   \n",
       "3       Angola             2.0             110       Country  Mid-2015   \n",
       "4    Argentina            16.0             496       Country  Mid-2015   \n",
       "\n",
       "  Data Type      Data  articles_per_popilation  \n",
       "0    Number  32247000                 0.000010  \n",
       "1    Number   2892000                 0.000159  \n",
       "2    Number  39948000                 0.000003  \n",
       "3    Number  25000000                 0.000004  \n",
       "4    Number  42426000                 0.000012  "
      ]
     },
     "execution_count": 22,
     "metadata": {},
     "output_type": "execute_result"
    }
   ],
   "source": [
    "temp = pd.merge(highquality_per_country, temp, on='country', how='outer' )\n",
    "temp.head()"
   ]
  },
  {
   "cell_type": "code",
   "execution_count": 23,
   "metadata": {},
   "outputs": [
    {
     "data": {
      "text/html": [
       "<div>\n",
       "<table border=\"1\" class=\"dataframe\">\n",
       "  <thead>\n",
       "    <tr style=\"text-align: right;\">\n",
       "      <th></th>\n",
       "      <th>country</th>\n",
       "      <th>article_name_x</th>\n",
       "      <th>article_name_y</th>\n",
       "      <th>Location Type</th>\n",
       "      <th>TimeFrame</th>\n",
       "      <th>Data Type</th>\n",
       "      <th>Data</th>\n",
       "      <th>articles_per_popilation</th>\n",
       "      <th>high_quality_articles</th>\n",
       "    </tr>\n",
       "  </thead>\n",
       "  <tbody>\n",
       "    <tr>\n",
       "      <th>0</th>\n",
       "      <td>Afghanistan</td>\n",
       "      <td>19.0</td>\n",
       "      <td>327</td>\n",
       "      <td>Country</td>\n",
       "      <td>Mid-2015</td>\n",
       "      <td>Number</td>\n",
       "      <td>32247000</td>\n",
       "      <td>0.000010</td>\n",
       "      <td>0.058104</td>\n",
       "    </tr>\n",
       "    <tr>\n",
       "      <th>1</th>\n",
       "      <td>Albania</td>\n",
       "      <td>5.0</td>\n",
       "      <td>460</td>\n",
       "      <td>Country</td>\n",
       "      <td>Mid-2015</td>\n",
       "      <td>Number</td>\n",
       "      <td>2892000</td>\n",
       "      <td>0.000159</td>\n",
       "      <td>0.010870</td>\n",
       "    </tr>\n",
       "    <tr>\n",
       "      <th>2</th>\n",
       "      <td>Algeria</td>\n",
       "      <td>3.0</td>\n",
       "      <td>119</td>\n",
       "      <td>Country</td>\n",
       "      <td>Mid-2015</td>\n",
       "      <td>Number</td>\n",
       "      <td>39948000</td>\n",
       "      <td>0.000003</td>\n",
       "      <td>0.025210</td>\n",
       "    </tr>\n",
       "    <tr>\n",
       "      <th>3</th>\n",
       "      <td>Angola</td>\n",
       "      <td>2.0</td>\n",
       "      <td>110</td>\n",
       "      <td>Country</td>\n",
       "      <td>Mid-2015</td>\n",
       "      <td>Number</td>\n",
       "      <td>25000000</td>\n",
       "      <td>0.000004</td>\n",
       "      <td>0.018182</td>\n",
       "    </tr>\n",
       "    <tr>\n",
       "      <th>4</th>\n",
       "      <td>Argentina</td>\n",
       "      <td>16.0</td>\n",
       "      <td>496</td>\n",
       "      <td>Country</td>\n",
       "      <td>Mid-2015</td>\n",
       "      <td>Number</td>\n",
       "      <td>42426000</td>\n",
       "      <td>0.000012</td>\n",
       "      <td>0.032258</td>\n",
       "    </tr>\n",
       "  </tbody>\n",
       "</table>\n",
       "</div>"
      ],
      "text/plain": [
       "       country  article_name_x  article_name_y Location Type TimeFrame  \\\n",
       "0  Afghanistan            19.0             327       Country  Mid-2015   \n",
       "1      Albania             5.0             460       Country  Mid-2015   \n",
       "2      Algeria             3.0             119       Country  Mid-2015   \n",
       "3       Angola             2.0             110       Country  Mid-2015   \n",
       "4    Argentina            16.0             496       Country  Mid-2015   \n",
       "\n",
       "  Data Type      Data  articles_per_popilation  high_quality_articles  \n",
       "0    Number  32247000                 0.000010               0.058104  \n",
       "1    Number   2892000                 0.000159               0.010870  \n",
       "2    Number  39948000                 0.000003               0.025210  \n",
       "3    Number  25000000                 0.000004               0.018182  \n",
       "4    Number  42426000                 0.000012               0.032258  "
      ]
     },
     "execution_count": 23,
     "metadata": {},
     "output_type": "execute_result"
    }
   ],
   "source": [
    "# Calculate the percentage of high-quality articles per country\n",
    "temp['high_quality_articles'] = temp.article_name_x/temp.article_name_y\n",
    "temp.head()"
   ]
  },
  {
   "cell_type": "code",
   "execution_count": 24,
   "metadata": {},
   "outputs": [
    {
     "data": {
      "text/html": [
       "<div>\n",
       "<table border=\"1\" class=\"dataframe\">\n",
       "  <thead>\n",
       "    <tr style=\"text-align: right;\">\n",
       "      <th></th>\n",
       "      <th>articles_per_population</th>\n",
       "      <th>country</th>\n",
       "      <th>high_quality_articles</th>\n",
       "    </tr>\n",
       "  </thead>\n",
       "  <tbody>\n",
       "    <tr>\n",
       "      <th>0</th>\n",
       "      <td>0.000010</td>\n",
       "      <td>Afghanistan</td>\n",
       "      <td>0.058104</td>\n",
       "    </tr>\n",
       "    <tr>\n",
       "      <th>1</th>\n",
       "      <td>0.000159</td>\n",
       "      <td>Albania</td>\n",
       "      <td>0.010870</td>\n",
       "    </tr>\n",
       "    <tr>\n",
       "      <th>2</th>\n",
       "      <td>0.000003</td>\n",
       "      <td>Algeria</td>\n",
       "      <td>0.025210</td>\n",
       "    </tr>\n",
       "    <tr>\n",
       "      <th>3</th>\n",
       "      <td>0.000004</td>\n",
       "      <td>Angola</td>\n",
       "      <td>0.018182</td>\n",
       "    </tr>\n",
       "    <tr>\n",
       "      <th>4</th>\n",
       "      <td>0.000012</td>\n",
       "      <td>Argentina</td>\n",
       "      <td>0.032258</td>\n",
       "    </tr>\n",
       "  </tbody>\n",
       "</table>\n",
       "</div>"
      ],
      "text/plain": [
       "   articles_per_population      country  high_quality_articles\n",
       "0                 0.000010  Afghanistan               0.058104\n",
       "1                 0.000159      Albania               0.010870\n",
       "2                 0.000003      Algeria               0.025210\n",
       "3                 0.000004       Angola               0.018182\n",
       "4                 0.000012    Argentina               0.032258"
      ]
     },
     "execution_count": 24,
     "metadata": {},
     "output_type": "execute_result"
    }
   ],
   "source": [
    "analysis_data = pd.DataFrame({'country': temp.country,\n",
    "                            'articles_per_population': temp.articles_per_popilation,\n",
    "                            'high_quality_articles': temp.high_quality_articles})\n",
    "analysis_data.head()"
   ]
  },
  {
   "cell_type": "markdown",
   "metadata": {},
   "source": [
    "## Visualization"
   ]
  },
  {
   "cell_type": "markdown",
   "metadata": {},
   "source": [
    "### 10 highest-ranked countries in terms of number of politician articles as a proportion of country population"
   ]
  },
  {
   "cell_type": "code",
   "execution_count": 33,
   "metadata": {},
   "outputs": [
    {
     "name": "stderr",
     "output_type": "stream",
     "text": [
      "/opt/conda/lib/python3.6/site-packages/ipykernel_launcher.py:1: FutureWarning: sort(columns=....) is deprecated, use sort_values(by=.....)\n",
      "  \"\"\"Entry point for launching an IPython kernel.\n"
     ]
    },
    {
     "data": {
      "text/html": [
       "<div>\n",
       "<table border=\"1\" class=\"dataframe\">\n",
       "  <thead>\n",
       "    <tr style=\"text-align: right;\">\n",
       "      <th></th>\n",
       "      <th>articles_per_population</th>\n",
       "    </tr>\n",
       "    <tr>\n",
       "      <th>country</th>\n",
       "      <th></th>\n",
       "    </tr>\n",
       "  </thead>\n",
       "  <tbody>\n",
       "    <tr>\n",
       "      <th>Nauru</th>\n",
       "      <td>0.004880</td>\n",
       "    </tr>\n",
       "    <tr>\n",
       "      <th>Tuvalu</th>\n",
       "      <td>0.004661</td>\n",
       "    </tr>\n",
       "    <tr>\n",
       "      <th>San Marino</th>\n",
       "      <td>0.002485</td>\n",
       "    </tr>\n",
       "    <tr>\n",
       "      <th>Monaco</th>\n",
       "      <td>0.001050</td>\n",
       "    </tr>\n",
       "    <tr>\n",
       "      <th>Liechtenstein</th>\n",
       "      <td>0.000772</td>\n",
       "    </tr>\n",
       "    <tr>\n",
       "      <th>Marshall Islands</th>\n",
       "      <td>0.000673</td>\n",
       "    </tr>\n",
       "    <tr>\n",
       "      <th>Iceland</th>\n",
       "      <td>0.000623</td>\n",
       "    </tr>\n",
       "    <tr>\n",
       "      <th>Tonga</th>\n",
       "      <td>0.000610</td>\n",
       "    </tr>\n",
       "    <tr>\n",
       "      <th>Andorra</th>\n",
       "      <td>0.000436</td>\n",
       "    </tr>\n",
       "    <tr>\n",
       "      <th>Federated States of Micronesia</th>\n",
       "      <td>0.000369</td>\n",
       "    </tr>\n",
       "  </tbody>\n",
       "</table>\n",
       "</div>"
      ],
      "text/plain": [
       "                                articles_per_population\n",
       "country                                                \n",
       "Nauru                                          0.004880\n",
       "Tuvalu                                         0.004661\n",
       "San Marino                                     0.002485\n",
       "Monaco                                         0.001050\n",
       "Liechtenstein                                  0.000772\n",
       "Marshall Islands                               0.000673\n",
       "Iceland                                        0.000623\n",
       "Tonga                                          0.000610\n",
       "Andorra                                        0.000436\n",
       "Federated States of Micronesia                 0.000369"
      ]
     },
     "execution_count": 33,
     "metadata": {},
     "output_type": "execute_result"
    }
   ],
   "source": [
    "proportion_asc = analysis_data.sort('articles_per_population', ascending=False)\n",
    "del proportion_asc['high_quality_articles']\n",
    "proportion_asc = proportion_asc.set_index('country')\n",
    "proportion_asc = proportion_asc.head(10)\n",
    "proportion_asc"
   ]
  },
  {
   "cell_type": "code",
   "execution_count": 27,
   "metadata": {},
   "outputs": [
    {
     "data": {
      "image/png": "[encoded data removed]",
      "text/plain": [
       "<matplotlib.figure.Figure at 0x7ff6abbbecc0>"
      ]
     },
     "metadata": {},
     "output_type": "display_data"
    }
   ],
   "source": [
    "ax = proportion_asc[['articles_per_population']].head(10).plot(kind='bar', \n",
    "                                                      title =\"10 highest-ranked countries in terms of number of politician articles as a proportion of country population\", \n",
    "                                                      figsize=(15, 10), legend=True, fontsize=12)\n",
    "ax.set_xlabel(\"Countries\", fontsize=12)\n",
    "ax.set_ylabel(\"Percentage\", fontsize=12)\n",
    "plt.show()"
   ]
  },
  {
   "cell_type": "markdown",
   "metadata": {},
   "source": [
    "### 10 lowest-ranked countries in terms of number of politician articles as a proportion of country population"
   ]
  },
  {
   "cell_type": "code",
   "execution_count": 35,
   "metadata": {},
   "outputs": [
    {
     "name": "stderr",
     "output_type": "stream",
     "text": [
      "/opt/conda/lib/python3.6/site-packages/ipykernel_launcher.py:1: FutureWarning: sort(columns=....) is deprecated, use sort_values(by=.....)\n",
      "  \"\"\"Entry point for launching an IPython kernel.\n"
     ]
    },
    {
     "data": {
      "text/html": [
       "<div>\n",
       "<table border=\"1\" class=\"dataframe\">\n",
       "  <thead>\n",
       "    <tr style=\"text-align: right;\">\n",
       "      <th></th>\n",
       "      <th>articles_per_population</th>\n",
       "    </tr>\n",
       "    <tr>\n",
       "      <th>country</th>\n",
       "      <th></th>\n",
       "    </tr>\n",
       "  </thead>\n",
       "  <tbody>\n",
       "    <tr>\n",
       "      <th>India</th>\n",
       "      <td>7.533687e-07</td>\n",
       "    </tr>\n",
       "    <tr>\n",
       "      <th>China</th>\n",
       "      <td>8.294944e-07</td>\n",
       "    </tr>\n",
       "    <tr>\n",
       "      <th>Indonesia</th>\n",
       "      <td>8.406911e-07</td>\n",
       "    </tr>\n",
       "    <tr>\n",
       "      <th>Uzbekistan</th>\n",
       "      <td>9.267902e-07</td>\n",
       "    </tr>\n",
       "    <tr>\n",
       "      <th>Ethiopia</th>\n",
       "      <td>1.069813e-06</td>\n",
       "    </tr>\n",
       "    <tr>\n",
       "      <th>Korea, North</th>\n",
       "      <td>1.561062e-06</td>\n",
       "    </tr>\n",
       "    <tr>\n",
       "      <th>Zambia</th>\n",
       "      <td>1.680249e-06</td>\n",
       "    </tr>\n",
       "    <tr>\n",
       "      <th>Thailand</th>\n",
       "      <td>1.719869e-06</td>\n",
       "    </tr>\n",
       "    <tr>\n",
       "      <th>Congo, Dem. Rep. of</th>\n",
       "      <td>1.936182e-06</td>\n",
       "    </tr>\n",
       "    <tr>\n",
       "      <th>Bangladesh</th>\n",
       "      <td>2.019812e-06</td>\n",
       "    </tr>\n",
       "  </tbody>\n",
       "</table>\n",
       "</div>"
      ],
      "text/plain": [
       "                     articles_per_population\n",
       "country                                     \n",
       "India                           7.533687e-07\n",
       "China                           8.294944e-07\n",
       "Indonesia                       8.406911e-07\n",
       "Uzbekistan                      9.267902e-07\n",
       "Ethiopia                        1.069813e-06\n",
       "Korea, North                    1.561062e-06\n",
       "Zambia                          1.680249e-06\n",
       "Thailand                        1.719869e-06\n",
       "Congo, Dem. Rep. of             1.936182e-06\n",
       "Bangladesh                      2.019812e-06"
      ]
     },
     "execution_count": 35,
     "metadata": {},
     "output_type": "execute_result"
    }
   ],
   "source": [
    "proportion_desc = analysis_data.sort('articles_per_population', ascending=True)\n",
    "del proportion_desc['high_quality_articles']\n",
    "proportion_desc = proportion_desc.set_index('country')\n",
    "proportion_desc = proportion_desc.head(10)\n",
    "proportion_desc"
   ]
  },
  {
   "cell_type": "code",
   "execution_count": 91,
   "metadata": {},
   "outputs": [
    {
     "data": {
      "image/png": "[encoded data removed]",
      "text/plain": [
       "<matplotlib.figure.Figure at 0x7f6063b2af98>"
      ]
     },
     "metadata": {},
     "output_type": "display_data"
    }
   ],
   "source": [
    "ax = proportion_desc[['articles_per_population']].head(10).plot(kind='bar', \n",
    "                                                      title =\"10 lowest-ranked countries in terms of number of politician articles as a proportion of country population\", \n",
    "                                                      figsize=(15, 10), fontsize=12)\n",
    "ax.set_xlabel(\"Countries\", fontsize=15)\n",
    "ax.set_ylabel(\"Percentage\", fontsize=15)\n",
    "plt.show()"
   ]
  },
  {
   "cell_type": "markdown",
   "metadata": {},
   "source": [
    "### 10 highest-ranked countries in terms of number of GA and FA-quality articles as a proportion of all articles about politicians from that country"
   ]
  },
  {
   "cell_type": "code",
   "execution_count": 36,
   "metadata": {},
   "outputs": [
    {
     "name": "stderr",
     "output_type": "stream",
     "text": [
      "/opt/conda/lib/python3.6/site-packages/ipykernel_launcher.py:1: FutureWarning: sort(columns=....) is deprecated, use sort_values(by=.....)\n",
      "  \"\"\"Entry point for launching an IPython kernel.\n"
     ]
    },
    {
     "data": {
      "text/html": [
       "<div>\n",
       "<table border=\"1\" class=\"dataframe\">\n",
       "  <thead>\n",
       "    <tr style=\"text-align: right;\">\n",
       "      <th></th>\n",
       "      <th>high_quality_articles</th>\n",
       "    </tr>\n",
       "    <tr>\n",
       "      <th>country</th>\n",
       "      <th></th>\n",
       "    </tr>\n",
       "  </thead>\n",
       "  <tbody>\n",
       "    <tr>\n",
       "      <th>Korea, North</th>\n",
       "      <td>0.230769</td>\n",
       "    </tr>\n",
       "    <tr>\n",
       "      <th>Romania</th>\n",
       "      <td>0.129310</td>\n",
       "    </tr>\n",
       "    <tr>\n",
       "      <th>Saudi Arabia</th>\n",
       "      <td>0.126050</td>\n",
       "    </tr>\n",
       "    <tr>\n",
       "      <th>Central African Republic</th>\n",
       "      <td>0.117647</td>\n",
       "    </tr>\n",
       "    <tr>\n",
       "      <th>Qatar</th>\n",
       "      <td>0.098039</td>\n",
       "    </tr>\n",
       "    <tr>\n",
       "      <th>Guinea-Bissau</th>\n",
       "      <td>0.095238</td>\n",
       "    </tr>\n",
       "    <tr>\n",
       "      <th>Vietnam</th>\n",
       "      <td>0.094241</td>\n",
       "    </tr>\n",
       "    <tr>\n",
       "      <th>Bhutan</th>\n",
       "      <td>0.090909</td>\n",
       "    </tr>\n",
       "    <tr>\n",
       "      <th>Ireland</th>\n",
       "      <td>0.081365</td>\n",
       "    </tr>\n",
       "    <tr>\n",
       "      <th>United States</th>\n",
       "      <td>0.078324</td>\n",
       "    </tr>\n",
       "  </tbody>\n",
       "</table>\n",
       "</div>"
      ],
      "text/plain": [
       "                          high_quality_articles\n",
       "country                                        \n",
       "Korea, North                           0.230769\n",
       "Romania                                0.129310\n",
       "Saudi Arabia                           0.126050\n",
       "Central African Republic               0.117647\n",
       "Qatar                                  0.098039\n",
       "Guinea-Bissau                          0.095238\n",
       "Vietnam                                0.094241\n",
       "Bhutan                                 0.090909\n",
       "Ireland                                0.081365\n",
       "United States                          0.078324"
      ]
     },
     "execution_count": 36,
     "metadata": {},
     "output_type": "execute_result"
    }
   ],
   "source": [
    "highquality_asc = analysis_data.sort('high_quality_articles', ascending=False)\n",
    "del highquality_asc['articles_per_population']\n",
    "highquality_asc = highquality_asc.set_index('country')\n",
    "highquality_asc = highquality_asc.head(10)\n",
    "highquality_asc"
   ]
  },
  {
   "cell_type": "code",
   "execution_count": 94,
   "metadata": {},
   "outputs": [
    {
     "data": {
      "image/png": "[encoded data removed]",
      "text/plain": [
       "<matplotlib.figure.Figure at 0x7f6067e3f4e0>"
      ]
     },
     "metadata": {},
     "output_type": "display_data"
    }
   ],
   "source": [
    "ax = highquality_asc[['high_quality_articles']].head(10).plot(kind='bar', \n",
    "                                                      title =\"10 highest-ranked countries in terms of number of GA and FA-quality articles as a proportion of all articles about politicians from that country\", \n",
    "                                                      figsize=(15, 10), fontsize=12)\n",
    "ax.set_xlabel(\"Countries\", fontsize=15)\n",
    "ax.set_ylabel(\"Percentage of high-quality articles\", fontsize=15)\n",
    "plt.show()"
   ]
  },
  {
   "cell_type": "markdown",
   "metadata": {},
   "source": [
    "### 10 lowest-ranked countries in terms of number of GA and FA-quality articles as a proportion of all articles about politicians from that country"
   ]
  },
  {
   "cell_type": "code",
   "execution_count": 37,
   "metadata": {},
   "outputs": [
    {
     "name": "stderr",
     "output_type": "stream",
     "text": [
      "/opt/conda/lib/python3.6/site-packages/ipykernel_launcher.py:1: FutureWarning: sort(columns=....) is deprecated, use sort_values(by=.....)\n",
      "  \"\"\"Entry point for launching an IPython kernel.\n"
     ]
    },
    {
     "data": {
      "text/html": [
       "<div>\n",
       "<table border=\"1\" class=\"dataframe\">\n",
       "  <thead>\n",
       "    <tr style=\"text-align: right;\">\n",
       "      <th></th>\n",
       "      <th>high_quality_articles</th>\n",
       "    </tr>\n",
       "    <tr>\n",
       "      <th>country</th>\n",
       "      <th></th>\n",
       "    </tr>\n",
       "  </thead>\n",
       "  <tbody>\n",
       "    <tr>\n",
       "      <th>Finland</th>\n",
       "      <td>0.001748</td>\n",
       "    </tr>\n",
       "    <tr>\n",
       "      <th>Tanzania</th>\n",
       "      <td>0.002451</td>\n",
       "    </tr>\n",
       "    <tr>\n",
       "      <th>Peru</th>\n",
       "      <td>0.002825</td>\n",
       "    </tr>\n",
       "    <tr>\n",
       "      <th>Czech Republic</th>\n",
       "      <td>0.003937</td>\n",
       "    </tr>\n",
       "    <tr>\n",
       "      <th>Lithuania</th>\n",
       "      <td>0.004032</td>\n",
       "    </tr>\n",
       "    <tr>\n",
       "      <th>Moldova</th>\n",
       "      <td>0.004695</td>\n",
       "    </tr>\n",
       "    <tr>\n",
       "      <th>Fiji</th>\n",
       "      <td>0.005025</td>\n",
       "    </tr>\n",
       "    <tr>\n",
       "      <th>Uganda</th>\n",
       "      <td>0.005319</td>\n",
       "    </tr>\n",
       "    <tr>\n",
       "      <th>Luxembourg</th>\n",
       "      <td>0.005556</td>\n",
       "    </tr>\n",
       "    <tr>\n",
       "      <th>Nigeria</th>\n",
       "      <td>0.005848</td>\n",
       "    </tr>\n",
       "  </tbody>\n",
       "</table>\n",
       "</div>"
      ],
      "text/plain": [
       "                high_quality_articles\n",
       "country                              \n",
       "Finland                      0.001748\n",
       "Tanzania                     0.002451\n",
       "Peru                         0.002825\n",
       "Czech Republic               0.003937\n",
       "Lithuania                    0.004032\n",
       "Moldova                      0.004695\n",
       "Fiji                         0.005025\n",
       "Uganda                       0.005319\n",
       "Luxembourg                   0.005556\n",
       "Nigeria                      0.005848"
      ]
     },
     "execution_count": 37,
     "metadata": {},
     "output_type": "execute_result"
    }
   ],
   "source": [
    "highquality_desc = analysis_data.sort('high_quality_articles', ascending=True)\n",
    "del highquality_desc['articles_per_population']\n",
    "highquality_desc = highquality_desc.set_index('country')\n",
    "highquality_desc = highquality_desc.head(10)\n",
    "highquality_desc"
   ]
  },
  {
   "cell_type": "code",
   "execution_count": 97,
   "metadata": {},
   "outputs": [
    {
     "data": {
      "image/png": "[encoded data removed]",
      "text/plain": [
       "<matplotlib.figure.Figure at 0x7f6067770eb8>"
      ]
     },
     "metadata": {},
     "output_type": "display_data"
    }
   ],
   "source": [
    "ax = highquality_desc[['high_quality_articles']].head(10).plot(kind='bar', \n",
    "                                                      title =\"10 lowest-ranked countries in terms of number of GA and FA-quality articles as a proportion of all articles about politicians from that country\", \n",
    "                                                      figsize=(15, 10), fontsize=12)\n",
    "ax.set_xlabel(\"Countries\", fontsize=15)\n",
    "ax.set_ylabel(\"Percentage of high-quality articles\", fontsize=15)\n",
    "plt.show()"
   ]
  },
  {
   "cell_type": "code",
   "execution_count": null,
   "metadata": {},
   "outputs": [],
   "source": []
  }
 ],
 "metadata": {
  "kernelspec": {
   "display_name": "Python 3",
   "language": "python",
   "name": "python3"
  }
 },
 "nbformat": 4,
 "nbformat_minor": 2
}
